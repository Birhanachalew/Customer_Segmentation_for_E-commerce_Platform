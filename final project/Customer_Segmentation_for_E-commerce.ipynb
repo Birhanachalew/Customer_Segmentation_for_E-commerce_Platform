{
 "cells": [
  {
   "cell_type": "markdown",
   "metadata": {},
   "source": [
    "# Data Mining Final Project by LINUXIFY  \n",
    "# AAIT IT student.?\n",
    "PRESENTED TO - Mr kassahun"
   ]
  },
  {
   "cell_type": "markdown",
   "metadata": {},
   "source": [
    "# Customer Segmentation for E-commerce Platform\n",
    "\n",
    "Dataset : e-commerce Dataset \n",
    "\n",
    "project proposal : https://drive.google.com/file/d/1pqf2lcXfWAIZy07Aj2T0Qnjb4KWqPOi0/view?usp=sharing\n",
    "\n",
    "Business Problem :\n",
    "- How to segment the customers at  marketplace so we can divide customers based on their shopping behaviour?\n",
    "- What kind of treatment for each cluster to increase retention rate customer?\n",
    "  \n",
    "\n"
   ]
  },
  {
   "cell_type": "markdown",
   "metadata": {},
   "source": [
    "# Import Library and Dataset"
   ]
  },
  {
   "cell_type": "code",
   "execution_count": 1,
   "metadata": {},
   "outputs": [],
   "source": [
    "# Data\n",
    "import pandas as pd\n",
    "import numpy as np\n",
    "import datetime as dt\n",
    "\n",
    "# Visualization\n",
    "import matplotlib.pyplot as plt\n",
    "import seaborn as sns\n",
    "sns.set_style(\"white\")\n",
    "\n",
    "# Modeling\n",
    "from sklearn.cluster import KMeans\n",
    "\n",
    "# Evaluation\n",
    "from sklearn.metrics import silhouette_score\n",
    "\n",
    "#Scaling\n",
    "from sklearn.preprocessing import StandardScaler\n",
    "\n",
    "# Warnings\n",
    "import warnings\n",
    "warnings.filterwarnings('ignore')"
   ]
  },
  {
   "cell_type": "code",
   "execution_count": 2,
   "metadata": {},
   "outputs": [],
   "source": [
    "# import dataset\n",
    "_order = pd.read_csv(r'D:\\IT\\final project\\dataset\\orders_dataset.csv')\n",
    "_item = pd.read_csv(r'D:\\IT\\final project\\dataset\\order_items_dataset.csv')\n",
    "_payment = pd.read_csv(r'D:\\IT\\final project\\dataset\\order_payments_dataset.csv')\n",
    "_product = pd.read_csv(r'D:\\IT\\final project\\dataset\\products_dataset.csv')\n",
    "_customer = pd.read_csv(r'D:\\IT\\final project\\dataset\\customers_dataset.csv')\n",
    "_review = pd.read_csv(r'D:\\IT\\final project\\dataset\\order_reviews_dataset.csv')\n",
    "_translate = pd.read_csv(r'D:\\IT\\final project\\dataset\\product_category_name_translation.csv')"
   ]
  },
  {
   "cell_type": "code",
   "execution_count": 3,
   "metadata": {},
   "outputs": [],
   "source": [
    "# merge dataset\n",
    "df = pd.merge(_order, _item, on='order_id', how='left')\n",
    "df = pd.merge(df, _product, on='product_id', how='inner')\n",
    "df = pd.merge(df, _payment, on='order_id', how = 'left')\n",
    "df= pd.merge(df, _review, on='order_id', how='left')\n",
    "df = pd.merge(df, _customer, on='customer_id', how='right')\n",
    "df = pd.merge(df, _translate, on='product_category_name', how='inner')"
   ]
  },
  {
   "cell_type": "code",
   "execution_count": 4,
   "metadata": {},
   "outputs": [
    {
     "data": {
      "text/html": [
       "<div>\n",
       "<style scoped>\n",
       "    .dataframe tbody tr th:only-of-type {\n",
       "        vertical-align: middle;\n",
       "    }\n",
       "\n",
       "    .dataframe tbody tr th {\n",
       "        vertical-align: top;\n",
       "    }\n",
       "\n",
       "    .dataframe thead th {\n",
       "        text-align: right;\n",
       "    }\n",
       "</style>\n",
       "<table border=\"1\" class=\"dataframe\">\n",
       "  <thead>\n",
       "    <tr style=\"text-align: right;\">\n",
       "      <th></th>\n",
       "      <th>order_id</th>\n",
       "      <th>customer_id</th>\n",
       "      <th>order_status</th>\n",
       "      <th>order_purchase_timestamp</th>\n",
       "      <th>order_approved_at</th>\n",
       "      <th>order_delivered_carrier_date</th>\n",
       "      <th>order_delivered_customer_date</th>\n",
       "      <th>order_estimated_delivery_date</th>\n",
       "      <th>order_item_id</th>\n",
       "      <th>product_id</th>\n",
       "      <th>...</th>\n",
       "      <th>review_score</th>\n",
       "      <th>review_comment_title</th>\n",
       "      <th>review_comment_message</th>\n",
       "      <th>review_creation_date</th>\n",
       "      <th>review_answer_timestamp</th>\n",
       "      <th>customer_unique_id</th>\n",
       "      <th>customer_zip_code_prefix</th>\n",
       "      <th>customer_city</th>\n",
       "      <th>customer_state</th>\n",
       "      <th>product_category_name_english</th>\n",
       "    </tr>\n",
       "  </thead>\n",
       "  <tbody>\n",
       "    <tr>\n",
       "      <th>0</th>\n",
       "      <td>00e7ee1b050b8499577073aeb2a297a1</td>\n",
       "      <td>06b8999e2fba1a1fbc88172c00ba8bc7</td>\n",
       "      <td>delivered</td>\n",
       "      <td>2017-05-16 15:05:35</td>\n",
       "      <td>2017-05-16 15:22:12</td>\n",
       "      <td>2017-05-23 10:47:57</td>\n",
       "      <td>2017-05-25 10:35:35</td>\n",
       "      <td>2017-06-05 00:00:00</td>\n",
       "      <td>1.0</td>\n",
       "      <td>a9516a079e37a9c9c36b9b78b10169e8</td>\n",
       "      <td>...</td>\n",
       "      <td>4.0</td>\n",
       "      <td>NaN</td>\n",
       "      <td>NaN</td>\n",
       "      <td>2017-05-26 00:00:00</td>\n",
       "      <td>2017-05-30 22:34:40</td>\n",
       "      <td>861eff4711a542e4b93843c6dd7febb0</td>\n",
       "      <td>14409</td>\n",
       "      <td>franca</td>\n",
       "      <td>SP</td>\n",
       "      <td>office_furniture</td>\n",
       "    </tr>\n",
       "    <tr>\n",
       "      <th>1</th>\n",
       "      <td>29150127e6685892b6eab3eec79f59c7</td>\n",
       "      <td>18955e83d337fd6b2def6b18a428ac77</td>\n",
       "      <td>delivered</td>\n",
       "      <td>2018-01-12 20:48:24</td>\n",
       "      <td>2018-01-12 20:58:32</td>\n",
       "      <td>2018-01-15 17:14:59</td>\n",
       "      <td>2018-01-29 12:41:19</td>\n",
       "      <td>2018-02-06 00:00:00</td>\n",
       "      <td>1.0</td>\n",
       "      <td>4aa6014eceb682077f9dc4bffebc05b0</td>\n",
       "      <td>...</td>\n",
       "      <td>5.0</td>\n",
       "      <td>NaN</td>\n",
       "      <td>NaN</td>\n",
       "      <td>2018-01-30 00:00:00</td>\n",
       "      <td>2018-02-10 22:43:29</td>\n",
       "      <td>290c77bc529b7ac935b93aa66c333dc3</td>\n",
       "      <td>9790</td>\n",
       "      <td>sao bernardo do campo</td>\n",
       "      <td>SP</td>\n",
       "      <td>housewares</td>\n",
       "    </tr>\n",
       "    <tr>\n",
       "      <th>2</th>\n",
       "      <td>b2059ed67ce144a36e2aa97d2c9e9ad2</td>\n",
       "      <td>4e7b3e00288586ebd08712fdd0374a03</td>\n",
       "      <td>delivered</td>\n",
       "      <td>2018-05-19 16:07:45</td>\n",
       "      <td>2018-05-20 16:19:10</td>\n",
       "      <td>2018-06-11 14:31:00</td>\n",
       "      <td>2018-06-14 17:58:51</td>\n",
       "      <td>2018-06-13 00:00:00</td>\n",
       "      <td>1.0</td>\n",
       "      <td>bd07b66896d6f1494f5b86251848ced7</td>\n",
       "      <td>...</td>\n",
       "      <td>5.0</td>\n",
       "      <td>NaN</td>\n",
       "      <td>NaN</td>\n",
       "      <td>2018-06-15 00:00:00</td>\n",
       "      <td>2018-06-15 12:10:59</td>\n",
       "      <td>060e732b5b29e8181a18229c7b0b2b5e</td>\n",
       "      <td>1151</td>\n",
       "      <td>sao paulo</td>\n",
       "      <td>SP</td>\n",
       "      <td>office_furniture</td>\n",
       "    </tr>\n",
       "    <tr>\n",
       "      <th>3</th>\n",
       "      <td>951670f92359f4fe4a63112aa7306eba</td>\n",
       "      <td>b2b6027bc5c5109e529d4dc6358b12c3</td>\n",
       "      <td>delivered</td>\n",
       "      <td>2018-03-13 16:06:38</td>\n",
       "      <td>2018-03-13 17:29:19</td>\n",
       "      <td>2018-03-27 23:22:42</td>\n",
       "      <td>2018-03-28 16:04:25</td>\n",
       "      <td>2018-04-10 00:00:00</td>\n",
       "      <td>1.0</td>\n",
       "      <td>a5647c44af977b148e0a3a4751a09e2e</td>\n",
       "      <td>...</td>\n",
       "      <td>5.0</td>\n",
       "      <td>NaN</td>\n",
       "      <td>NaN</td>\n",
       "      <td>2018-03-29 00:00:00</td>\n",
       "      <td>2018-04-02 18:36:47</td>\n",
       "      <td>259dac757896d24d7702b9acbbff3f3c</td>\n",
       "      <td>8775</td>\n",
       "      <td>mogi das cruzes</td>\n",
       "      <td>SP</td>\n",
       "      <td>office_furniture</td>\n",
       "    </tr>\n",
       "    <tr>\n",
       "      <th>4</th>\n",
       "      <td>6b7d50bd145f6fc7f33cebabd7e49d0f</td>\n",
       "      <td>4f2d8ab171c80ec8364f7c12e35b23ad</td>\n",
       "      <td>delivered</td>\n",
       "      <td>2018-07-29 09:51:30</td>\n",
       "      <td>2018-07-29 10:10:09</td>\n",
       "      <td>2018-07-30 15:16:00</td>\n",
       "      <td>2018-08-09 20:55:48</td>\n",
       "      <td>2018-08-15 00:00:00</td>\n",
       "      <td>1.0</td>\n",
       "      <td>9391a573abe00141c56e38d84d7d5b3b</td>\n",
       "      <td>...</td>\n",
       "      <td>5.0</td>\n",
       "      <td>a melhor nota</td>\n",
       "      <td>O baratheon è esxelente Amo adoro o baratheon</td>\n",
       "      <td>2018-08-10 00:00:00</td>\n",
       "      <td>2018-08-17 01:59:52</td>\n",
       "      <td>345ecd01c38d18a9036ed96c73b8d066</td>\n",
       "      <td>13056</td>\n",
       "      <td>campinas</td>\n",
       "      <td>SP</td>\n",
       "      <td>home_confort</td>\n",
       "    </tr>\n",
       "  </tbody>\n",
       "</table>\n",
       "<p>5 rows × 37 columns</p>\n",
       "</div>"
      ],
      "text/plain": [
       "                           order_id                       customer_id  \\\n",
       "0  00e7ee1b050b8499577073aeb2a297a1  06b8999e2fba1a1fbc88172c00ba8bc7   \n",
       "1  29150127e6685892b6eab3eec79f59c7  18955e83d337fd6b2def6b18a428ac77   \n",
       "2  b2059ed67ce144a36e2aa97d2c9e9ad2  4e7b3e00288586ebd08712fdd0374a03   \n",
       "3  951670f92359f4fe4a63112aa7306eba  b2b6027bc5c5109e529d4dc6358b12c3   \n",
       "4  6b7d50bd145f6fc7f33cebabd7e49d0f  4f2d8ab171c80ec8364f7c12e35b23ad   \n",
       "\n",
       "  order_status order_purchase_timestamp    order_approved_at  \\\n",
       "0    delivered      2017-05-16 15:05:35  2017-05-16 15:22:12   \n",
       "1    delivered      2018-01-12 20:48:24  2018-01-12 20:58:32   \n",
       "2    delivered      2018-05-19 16:07:45  2018-05-20 16:19:10   \n",
       "3    delivered      2018-03-13 16:06:38  2018-03-13 17:29:19   \n",
       "4    delivered      2018-07-29 09:51:30  2018-07-29 10:10:09   \n",
       "\n",
       "  order_delivered_carrier_date order_delivered_customer_date  \\\n",
       "0          2017-05-23 10:47:57           2017-05-25 10:35:35   \n",
       "1          2018-01-15 17:14:59           2018-01-29 12:41:19   \n",
       "2          2018-06-11 14:31:00           2018-06-14 17:58:51   \n",
       "3          2018-03-27 23:22:42           2018-03-28 16:04:25   \n",
       "4          2018-07-30 15:16:00           2018-08-09 20:55:48   \n",
       "\n",
       "  order_estimated_delivery_date  order_item_id  \\\n",
       "0           2017-06-05 00:00:00            1.0   \n",
       "1           2018-02-06 00:00:00            1.0   \n",
       "2           2018-06-13 00:00:00            1.0   \n",
       "3           2018-04-10 00:00:00            1.0   \n",
       "4           2018-08-15 00:00:00            1.0   \n",
       "\n",
       "                         product_id  ... review_score review_comment_title  \\\n",
       "0  a9516a079e37a9c9c36b9b78b10169e8  ...          4.0                  NaN   \n",
       "1  4aa6014eceb682077f9dc4bffebc05b0  ...          5.0                  NaN   \n",
       "2  bd07b66896d6f1494f5b86251848ced7  ...          5.0                  NaN   \n",
       "3  a5647c44af977b148e0a3a4751a09e2e  ...          5.0                  NaN   \n",
       "4  9391a573abe00141c56e38d84d7d5b3b  ...          5.0        a melhor nota   \n",
       "\n",
       "                          review_comment_message  review_creation_date  \\\n",
       "0                                            NaN   2017-05-26 00:00:00   \n",
       "1                                            NaN   2018-01-30 00:00:00   \n",
       "2                                            NaN   2018-06-15 00:00:00   \n",
       "3                                            NaN   2018-03-29 00:00:00   \n",
       "4  O baratheon è esxelente Amo adoro o baratheon   2018-08-10 00:00:00   \n",
       "\n",
       "  review_answer_timestamp                customer_unique_id  \\\n",
       "0     2017-05-30 22:34:40  861eff4711a542e4b93843c6dd7febb0   \n",
       "1     2018-02-10 22:43:29  290c77bc529b7ac935b93aa66c333dc3   \n",
       "2     2018-06-15 12:10:59  060e732b5b29e8181a18229c7b0b2b5e   \n",
       "3     2018-04-02 18:36:47  259dac757896d24d7702b9acbbff3f3c   \n",
       "4     2018-08-17 01:59:52  345ecd01c38d18a9036ed96c73b8d066   \n",
       "\n",
       "   customer_zip_code_prefix          customer_city  customer_state  \\\n",
       "0                     14409                 franca              SP   \n",
       "1                      9790  sao bernardo do campo              SP   \n",
       "2                      1151              sao paulo              SP   \n",
       "3                      8775        mogi das cruzes              SP   \n",
       "4                     13056               campinas              SP   \n",
       "\n",
       "   product_category_name_english  \n",
       "0               office_furniture  \n",
       "1                     housewares  \n",
       "2               office_furniture  \n",
       "3               office_furniture  \n",
       "4                   home_confort  \n",
       "\n",
       "[5 rows x 37 columns]"
      ]
     },
     "execution_count": 4,
     "metadata": {},
     "output_type": "execute_result"
    }
   ],
   "source": [
    "df.head()"
   ]
  },
  {
   "cell_type": "markdown",
   "metadata": {},
   "source": [
    "# Data Cleaning\n",
    "\n",
    "## Drop Useless Columns"
   ]
  },
  {
   "cell_type": "code",
   "execution_count": 5,
   "metadata": {},
   "outputs": [],
   "source": [
    "df_clean = df.drop(columns=['order_status', 'order_approved_at', 'order_delivered_customer_date', 'order_delivered_carrier_date', 'order_delivered_customer_date', \n",
    "                                  'order_estimated_delivery_date', 'seller_id', 'shipping_limit_date','product_category_name', 'product_name_lenght', \n",
    "                                  'product_description_lenght', 'product_weight_g', 'product_length_cm', 'product_height_cm', 'product_width_cm',\n",
    "                                  'payment_installments','review_id', 'review_comment_title', 'review_comment_message', 'review_creation_date', \n",
    "                                  'review_answer_timestamp', 'customer_id', 'customer_city', 'customer_state', 'product_photos_qty', 'freight_value', 'payment_sequential'])"
   ]
  },
  {
   "cell_type": "markdown",
   "metadata": {},
   "source": [
    "## Handling Missing Value"
   ]
  },
  {
   "cell_type": "code",
   "execution_count": 6,
   "metadata": {},
   "outputs": [
    {
     "data": {
      "text/plain": [
       "order_id                         0\n",
       "order_purchase_timestamp         0\n",
       "order_item_id                    0\n",
       "product_id                       0\n",
       "price                            0\n",
       "payment_type                     3\n",
       "payment_value                    3\n",
       "review_score                     0\n",
       "customer_unique_id               0\n",
       "customer_zip_code_prefix         0\n",
       "product_category_name_english    0\n",
       "dtype: int64"
      ]
     },
     "execution_count": 6,
     "metadata": {},
     "output_type": "execute_result"
    }
   ],
   "source": [
    "df_clean.isnull().sum()"
   ]
  },
  {
   "cell_type": "code",
   "execution_count": 7,
   "metadata": {},
   "outputs": [
    {
     "data": {
      "text/html": [
       "<div>\n",
       "<style scoped>\n",
       "    .dataframe tbody tr th:only-of-type {\n",
       "        vertical-align: middle;\n",
       "    }\n",
       "\n",
       "    .dataframe tbody tr th {\n",
       "        vertical-align: top;\n",
       "    }\n",
       "\n",
       "    .dataframe thead th {\n",
       "        text-align: right;\n",
       "    }\n",
       "</style>\n",
       "<table border=\"1\" class=\"dataframe\">\n",
       "  <thead>\n",
       "    <tr style=\"text-align: right;\">\n",
       "      <th></th>\n",
       "      <th>order_id</th>\n",
       "      <th>order_purchase_timestamp</th>\n",
       "      <th>order_item_id</th>\n",
       "      <th>product_id</th>\n",
       "      <th>price</th>\n",
       "      <th>payment_type</th>\n",
       "      <th>payment_value</th>\n",
       "      <th>review_score</th>\n",
       "      <th>customer_unique_id</th>\n",
       "      <th>customer_zip_code_prefix</th>\n",
       "      <th>product_category_name_english</th>\n",
       "    </tr>\n",
       "  </thead>\n",
       "  <tbody>\n",
       "    <tr>\n",
       "      <th>24813</th>\n",
       "      <td>bfbd0f9bdef84302105ad712db648a6c</td>\n",
       "      <td>2016-09-15 12:16:38</td>\n",
       "      <td>1.0</td>\n",
       "      <td>5a6b04657a4c5ee34285d1e4619a96b4</td>\n",
       "      <td>44.99</td>\n",
       "      <td>NaN</td>\n",
       "      <td>NaN</td>\n",
       "      <td>1.0</td>\n",
       "      <td>830d5b7aaa3b6f1e9ad63703bec97d23</td>\n",
       "      <td>14600</td>\n",
       "      <td>health_beauty</td>\n",
       "    </tr>\n",
       "    <tr>\n",
       "      <th>24814</th>\n",
       "      <td>bfbd0f9bdef84302105ad712db648a6c</td>\n",
       "      <td>2016-09-15 12:16:38</td>\n",
       "      <td>2.0</td>\n",
       "      <td>5a6b04657a4c5ee34285d1e4619a96b4</td>\n",
       "      <td>44.99</td>\n",
       "      <td>NaN</td>\n",
       "      <td>NaN</td>\n",
       "      <td>1.0</td>\n",
       "      <td>830d5b7aaa3b6f1e9ad63703bec97d23</td>\n",
       "      <td>14600</td>\n",
       "      <td>health_beauty</td>\n",
       "    </tr>\n",
       "    <tr>\n",
       "      <th>24815</th>\n",
       "      <td>bfbd0f9bdef84302105ad712db648a6c</td>\n",
       "      <td>2016-09-15 12:16:38</td>\n",
       "      <td>3.0</td>\n",
       "      <td>5a6b04657a4c5ee34285d1e4619a96b4</td>\n",
       "      <td>44.99</td>\n",
       "      <td>NaN</td>\n",
       "      <td>NaN</td>\n",
       "      <td>1.0</td>\n",
       "      <td>830d5b7aaa3b6f1e9ad63703bec97d23</td>\n",
       "      <td>14600</td>\n",
       "      <td>health_beauty</td>\n",
       "    </tr>\n",
       "  </tbody>\n",
       "</table>\n",
       "</div>"
      ],
      "text/plain": [
       "                               order_id order_purchase_timestamp  \\\n",
       "24813  bfbd0f9bdef84302105ad712db648a6c      2016-09-15 12:16:38   \n",
       "24814  bfbd0f9bdef84302105ad712db648a6c      2016-09-15 12:16:38   \n",
       "24815  bfbd0f9bdef84302105ad712db648a6c      2016-09-15 12:16:38   \n",
       "\n",
       "       order_item_id                        product_id  price payment_type  \\\n",
       "24813            1.0  5a6b04657a4c5ee34285d1e4619a96b4  44.99          NaN   \n",
       "24814            2.0  5a6b04657a4c5ee34285d1e4619a96b4  44.99          NaN   \n",
       "24815            3.0  5a6b04657a4c5ee34285d1e4619a96b4  44.99          NaN   \n",
       "\n",
       "       payment_value  review_score                customer_unique_id  \\\n",
       "24813            NaN           1.0  830d5b7aaa3b6f1e9ad63703bec97d23   \n",
       "24814            NaN           1.0  830d5b7aaa3b6f1e9ad63703bec97d23   \n",
       "24815            NaN           1.0  830d5b7aaa3b6f1e9ad63703bec97d23   \n",
       "\n",
       "       customer_zip_code_prefix product_category_name_english  \n",
       "24813                     14600                 health_beauty  \n",
       "24814                     14600                 health_beauty  \n",
       "24815                     14600                 health_beauty  "
      ]
     },
     "execution_count": 7,
     "metadata": {},
     "output_type": "execute_result"
    }
   ],
   "source": [
    "df_clean[df_clean['payment_type'].isnull()]"
   ]
  },
  {
   "cell_type": "code",
   "execution_count": 8,
   "metadata": {},
   "outputs": [],
   "source": [
    "df_clean.dropna(inplace = True)"
   ]
  },
  {
   "cell_type": "code",
   "execution_count": 9,
   "metadata": {},
   "outputs": [
    {
     "data": {
      "text/plain": [
       "order_id                         0\n",
       "order_purchase_timestamp         0\n",
       "order_item_id                    0\n",
       "product_id                       0\n",
       "price                            0\n",
       "payment_type                     0\n",
       "payment_value                    0\n",
       "review_score                     0\n",
       "customer_unique_id               0\n",
       "customer_zip_code_prefix         0\n",
       "product_category_name_english    0\n",
       "dtype: int64"
      ]
     },
     "execution_count": 9,
     "metadata": {},
     "output_type": "execute_result"
    }
   ],
   "source": [
    "df_clean.isnull().sum()"
   ]
  },
  {
   "cell_type": "markdown",
   "metadata": {},
   "source": [
    "## Handling Duplicate Value:"
   ]
  },
  {
   "cell_type": "code",
   "execution_count": 10,
   "metadata": {},
   "outputs": [
    {
     "data": {
      "text/plain": [
       "1072"
      ]
     },
     "execution_count": 10,
     "metadata": {},
     "output_type": "execute_result"
    }
   ],
   "source": [
    "df_clean.duplicated().sum()"
   ]
  },
  {
   "cell_type": "code",
   "execution_count": 11,
   "metadata": {},
   "outputs": [
    {
     "data": {
      "text/html": [
       "<div>\n",
       "<style scoped>\n",
       "    .dataframe tbody tr th:only-of-type {\n",
       "        vertical-align: middle;\n",
       "    }\n",
       "\n",
       "    .dataframe tbody tr th {\n",
       "        vertical-align: top;\n",
       "    }\n",
       "\n",
       "    .dataframe thead th {\n",
       "        text-align: right;\n",
       "    }\n",
       "</style>\n",
       "<table border=\"1\" class=\"dataframe\">\n",
       "  <thead>\n",
       "    <tr style=\"text-align: right;\">\n",
       "      <th></th>\n",
       "      <th>order_id</th>\n",
       "      <th>order_purchase_timestamp</th>\n",
       "      <th>order_item_id</th>\n",
       "      <th>product_id</th>\n",
       "      <th>price</th>\n",
       "      <th>payment_type</th>\n",
       "      <th>payment_value</th>\n",
       "      <th>review_score</th>\n",
       "      <th>customer_unique_id</th>\n",
       "      <th>customer_zip_code_prefix</th>\n",
       "      <th>product_category_name_english</th>\n",
       "    </tr>\n",
       "  </thead>\n",
       "  <tbody>\n",
       "    <tr>\n",
       "      <th>350</th>\n",
       "      <td>dfaa4ce943a8dba10b754befb76fdb49</td>\n",
       "      <td>2017-11-26 15:11:19</td>\n",
       "      <td>1.0</td>\n",
       "      <td>e3dd336775af78a83fc27ed85f0f15da</td>\n",
       "      <td>395.65</td>\n",
       "      <td>voucher</td>\n",
       "      <td>189.88</td>\n",
       "      <td>4.0</td>\n",
       "      <td>a1864cdd58debf5031958069ee937742</td>\n",
       "      <td>1230</td>\n",
       "      <td>health_beauty</td>\n",
       "    </tr>\n",
       "    <tr>\n",
       "      <th>502</th>\n",
       "      <td>c27cd942c2a926d25153090afa106ceb</td>\n",
       "      <td>2017-06-15 14:26:01</td>\n",
       "      <td>1.0</td>\n",
       "      <td>b2fb8ccacff645e701cd692064ad09c9</td>\n",
       "      <td>36.99</td>\n",
       "      <td>credit_card</td>\n",
       "      <td>206.36</td>\n",
       "      <td>5.0</td>\n",
       "      <td>b09f1bff1aff13c997af071602bc048b</td>\n",
       "      <td>3755</td>\n",
       "      <td>bed_bath_table</td>\n",
       "    </tr>\n",
       "    <tr>\n",
       "      <th>504</th>\n",
       "      <td>c27cd942c2a926d25153090afa106ceb</td>\n",
       "      <td>2017-06-15 14:26:01</td>\n",
       "      <td>2.0</td>\n",
       "      <td>315c6373ff469f7b7f60bbb36c319f7b</td>\n",
       "      <td>36.99</td>\n",
       "      <td>credit_card</td>\n",
       "      <td>206.36</td>\n",
       "      <td>5.0</td>\n",
       "      <td>b09f1bff1aff13c997af071602bc048b</td>\n",
       "      <td>3755</td>\n",
       "      <td>bed_bath_table</td>\n",
       "    </tr>\n",
       "    <tr>\n",
       "      <th>506</th>\n",
       "      <td>c27cd942c2a926d25153090afa106ceb</td>\n",
       "      <td>2017-06-15 14:26:01</td>\n",
       "      <td>3.0</td>\n",
       "      <td>54971206521793b44053a9c348d148c2</td>\n",
       "      <td>36.99</td>\n",
       "      <td>credit_card</td>\n",
       "      <td>206.36</td>\n",
       "      <td>5.0</td>\n",
       "      <td>b09f1bff1aff13c997af071602bc048b</td>\n",
       "      <td>3755</td>\n",
       "      <td>bed_bath_table</td>\n",
       "    </tr>\n",
       "    <tr>\n",
       "      <th>508</th>\n",
       "      <td>c27cd942c2a926d25153090afa106ceb</td>\n",
       "      <td>2017-06-15 14:26:01</td>\n",
       "      <td>4.0</td>\n",
       "      <td>54d9260785f11c05ad373ce8465212da</td>\n",
       "      <td>47.99</td>\n",
       "      <td>credit_card</td>\n",
       "      <td>206.36</td>\n",
       "      <td>5.0</td>\n",
       "      <td>b09f1bff1aff13c997af071602bc048b</td>\n",
       "      <td>3755</td>\n",
       "      <td>bed_bath_table</td>\n",
       "    </tr>\n",
       "  </tbody>\n",
       "</table>\n",
       "</div>"
      ],
      "text/plain": [
       "                             order_id order_purchase_timestamp  order_item_id  \\\n",
       "350  dfaa4ce943a8dba10b754befb76fdb49      2017-11-26 15:11:19            1.0   \n",
       "502  c27cd942c2a926d25153090afa106ceb      2017-06-15 14:26:01            1.0   \n",
       "504  c27cd942c2a926d25153090afa106ceb      2017-06-15 14:26:01            2.0   \n",
       "506  c27cd942c2a926d25153090afa106ceb      2017-06-15 14:26:01            3.0   \n",
       "508  c27cd942c2a926d25153090afa106ceb      2017-06-15 14:26:01            4.0   \n",
       "\n",
       "                           product_id   price payment_type  payment_value  \\\n",
       "350  e3dd336775af78a83fc27ed85f0f15da  395.65      voucher         189.88   \n",
       "502  b2fb8ccacff645e701cd692064ad09c9   36.99  credit_card         206.36   \n",
       "504  315c6373ff469f7b7f60bbb36c319f7b   36.99  credit_card         206.36   \n",
       "506  54971206521793b44053a9c348d148c2   36.99  credit_card         206.36   \n",
       "508  54d9260785f11c05ad373ce8465212da   47.99  credit_card         206.36   \n",
       "\n",
       "     review_score                customer_unique_id  customer_zip_code_prefix  \\\n",
       "350           4.0  a1864cdd58debf5031958069ee937742                      1230   \n",
       "502           5.0  b09f1bff1aff13c997af071602bc048b                      3755   \n",
       "504           5.0  b09f1bff1aff13c997af071602bc048b                      3755   \n",
       "506           5.0  b09f1bff1aff13c997af071602bc048b                      3755   \n",
       "508           5.0  b09f1bff1aff13c997af071602bc048b                      3755   \n",
       "\n",
       "    product_category_name_english  \n",
       "350                 health_beauty  \n",
       "502                bed_bath_table  \n",
       "504                bed_bath_table  \n",
       "506                bed_bath_table  \n",
       "508                bed_bath_table  "
      ]
     },
     "execution_count": 11,
     "metadata": {},
     "output_type": "execute_result"
    }
   ],
   "source": [
    "df_clean[df_clean.duplicated()].head()"
   ]
  },
  {
   "cell_type": "code",
   "execution_count": 12,
   "metadata": {},
   "outputs": [],
   "source": [
    "df_clean = df_clean.drop_duplicates()"
   ]
  },
  {
   "cell_type": "markdown",
   "metadata": {},
   "source": [
    "## Casting Data Types"
   ]
  },
  {
   "cell_type": "code",
   "execution_count": 13,
   "metadata": {},
   "outputs": [
    {
     "data": {
      "text/plain": [
       "order_id                          object\n",
       "order_purchase_timestamp          object\n",
       "order_item_id                    float64\n",
       "product_id                        object\n",
       "price                            float64\n",
       "payment_type                      object\n",
       "payment_value                    float64\n",
       "review_score                     float64\n",
       "customer_unique_id                object\n",
       "customer_zip_code_prefix           int64\n",
       "product_category_name_english     object\n",
       "dtype: object"
      ]
     },
     "execution_count": 13,
     "metadata": {},
     "output_type": "execute_result"
    }
   ],
   "source": [
    "df_clean.dtypes"
   ]
  },
  {
   "cell_type": "code",
   "execution_count": 15,
   "metadata": {},
   "outputs": [],
   "source": [
    "# change datetime\n",
    "df_clean['order_purchase_timestamp'] = pd.to_datetime(df_clean['order_purchase_timestamp'])\n",
    "df_clean['order_purchase_timestamp'].dt.strftime('%Y-%m-%d')\n",
    "\n",
    "# new columns\n",
    "df_clean['month_order'] = df_clean['order_purchase_timestamp'].dt.month_name()\n",
    "df_clean['weekday_order'] = df_clean['order_purchase_timestamp'].dt.day_name()\n",
    "df_clean['month_year_order'] = df_clean['order_purchase_timestamp'].dt.to_period('M').astype(str)\n",
    "df_clean['date_order'] = df_clean['order_purchase_timestamp'].dt.day"
   ]
  },
  {
   "cell_type": "code",
   "execution_count": 16,
   "metadata": {},
   "outputs": [
    {
     "data": {
      "text/plain": [
       "order_id                                 object\n",
       "order_purchase_timestamp         datetime64[ns]\n",
       "order_item_id                           float64\n",
       "product_id                               object\n",
       "price                                   float64\n",
       "payment_type                             object\n",
       "payment_value                           float64\n",
       "review_score                            float64\n",
       "customer_unique_id                       object\n",
       "customer_zip_code_prefix                  int64\n",
       "product_category_name_english            object\n",
       "month_order                              object\n",
       "weekday_order                            object\n",
       "month_year_order                         object\n",
       "date_order                                int32\n",
       "dtype: object"
      ]
     },
     "execution_count": 16,
     "metadata": {},
     "output_type": "execute_result"
    }
   ],
   "source": [
    "df_clean.dtypes"
   ]
  },
  {
   "cell_type": "markdown",
   "metadata": {},
   "source": [
    "## Handling Inconsistent Variable"
   ]
  },
  {
   "cell_type": "code",
   "execution_count": 18,
   "metadata": {},
   "outputs": [],
   "source": [
    "def format_val(x):\n",
    "  if x == 'home_appliances_2':\n",
    "    return \"home_appliances\"\n",
    "  elif x == 'home_confort':\n",
    "    return \"home_comfort\"\n",
    "  elif x == \"home_comfort_2\":\n",
    "    return \"home_comfort\"\n",
    "  \n",
    "  return x\n",
    "\n",
    "df_clean['product_category_name_english'] = df_clean['product_category_name_english'].apply(format_val)"
   ]
  },
  {
   "cell_type": "markdown",
   "metadata": {},
   "source": [
    "# Data Analysis Part 1 -Order Transaction\n",
    "It is about the order transactions data."
   ]
  },
  {
   "cell_type": "code",
   "execution_count": 19,
   "metadata": {},
   "outputs": [],
   "source": [
    "df = df_clean.copy()"
   ]
  },
  {
   "cell_type": "code",
   "execution_count": 20,
   "metadata": {},
   "outputs": [
    {
     "data": {
      "text/plain": [
       "(115509, 15)"
      ]
     },
     "execution_count": 20,
     "metadata": {},
     "output_type": "execute_result"
    }
   ],
   "source": [
    "df.shape"
   ]
  },
  {
   "cell_type": "code",
   "execution_count": 21,
   "metadata": {},
   "outputs": [
    {
     "name": "stdout",
     "output_type": "stream",
     "text": [
      "<class 'pandas.core.frame.DataFrame'>\n",
      "Index: 115509 entries, 0 to 116583\n",
      "Data columns (total 15 columns):\n",
      " #   Column                         Non-Null Count   Dtype         \n",
      "---  ------                         --------------   -----         \n",
      " 0   order_id                       115509 non-null  object        \n",
      " 1   order_purchase_timestamp       115509 non-null  datetime64[ns]\n",
      " 2   order_item_id                  115509 non-null  float64       \n",
      " 3   product_id                     115509 non-null  object        \n",
      " 4   price                          115509 non-null  float64       \n",
      " 5   payment_type                   115509 non-null  object        \n",
      " 6   payment_value                  115509 non-null  float64       \n",
      " 7   review_score                   115509 non-null  float64       \n",
      " 8   customer_unique_id             115509 non-null  object        \n",
      " 9   customer_zip_code_prefix       115509 non-null  int64         \n",
      " 10  product_category_name_english  115509 non-null  object        \n",
      " 11  month_order                    115509 non-null  object        \n",
      " 12  weekday_order                  115509 non-null  object        \n",
      " 13  month_year_order               115509 non-null  object        \n",
      " 14  date_order                     115509 non-null  int32         \n",
      "dtypes: datetime64[ns](1), float64(4), int32(1), int64(1), object(8)\n",
      "memory usage: 13.7+ MB\n"
     ]
    }
   ],
   "source": [
    "df.info()"
   ]
  },
  {
   "cell_type": "code",
   "execution_count": 22,
   "metadata": {},
   "outputs": [
    {
     "data": {
      "text/plain": [
       "order_id                         97255\n",
       "order_purchase_timestamp         96720\n",
       "customer_unique_id               94087\n",
       "product_id                       32328\n",
       "payment_value                    28765\n",
       "customer_zip_code_prefix         14927\n",
       "price                             5899\n",
       "product_category_name_english       69\n",
       "date_order                          31\n",
       "month_year_order                    24\n",
       "order_item_id                       21\n",
       "month_order                         12\n",
       "weekday_order                        7\n",
       "review_score                         5\n",
       "payment_type                         4\n",
       "dtype: int64"
      ]
     },
     "execution_count": 22,
     "metadata": {},
     "output_type": "execute_result"
    }
   ],
   "source": [
    "df.nunique().sort_values(ascending=False)"
   ]
  },
  {
   "cell_type": "code",
   "execution_count": 23,
   "metadata": {},
   "outputs": [
    {
     "data": {
      "text/html": [
       "<div>\n",
       "<style scoped>\n",
       "    .dataframe tbody tr th:only-of-type {\n",
       "        vertical-align: middle;\n",
       "    }\n",
       "\n",
       "    .dataframe tbody tr th {\n",
       "        vertical-align: top;\n",
       "    }\n",
       "\n",
       "    .dataframe thead th {\n",
       "        text-align: right;\n",
       "    }\n",
       "</style>\n",
       "<table border=\"1\" class=\"dataframe\">\n",
       "  <thead>\n",
       "    <tr style=\"text-align: right;\">\n",
       "      <th></th>\n",
       "      <th>order_purchase_timestamp</th>\n",
       "      <th>order_item_id</th>\n",
       "      <th>price</th>\n",
       "      <th>payment_value</th>\n",
       "      <th>review_score</th>\n",
       "      <th>customer_zip_code_prefix</th>\n",
       "      <th>date_order</th>\n",
       "    </tr>\n",
       "  </thead>\n",
       "  <tbody>\n",
       "    <tr>\n",
       "      <th>count</th>\n",
       "      <td>115509</td>\n",
       "      <td>115509.000000</td>\n",
       "      <td>115509.000000</td>\n",
       "      <td>115509.000000</td>\n",
       "      <td>115509.000000</td>\n",
       "      <td>115509.00000</td>\n",
       "      <td>115509.000000</td>\n",
       "    </tr>\n",
       "    <tr>\n",
       "      <th>mean</th>\n",
       "      <td>2017-12-31 09:55:23.934982912</td>\n",
       "      <td>1.196747</td>\n",
       "      <td>120.830109</td>\n",
       "      <td>173.795383</td>\n",
       "      <td>4.016510</td>\n",
       "      <td>35067.93436</td>\n",
       "      <td>15.559030</td>\n",
       "    </tr>\n",
       "    <tr>\n",
       "      <th>min</th>\n",
       "      <td>2016-09-04 21:15:19</td>\n",
       "      <td>1.000000</td>\n",
       "      <td>0.850000</td>\n",
       "      <td>0.000000</td>\n",
       "      <td>1.000000</td>\n",
       "      <td>1003.00000</td>\n",
       "      <td>1.000000</td>\n",
       "    </tr>\n",
       "    <tr>\n",
       "      <th>25%</th>\n",
       "      <td>2017-09-12 17:47:51</td>\n",
       "      <td>1.000000</td>\n",
       "      <td>39.900000</td>\n",
       "      <td>61.700000</td>\n",
       "      <td>4.000000</td>\n",
       "      <td>11320.00000</td>\n",
       "      <td>8.000000</td>\n",
       "    </tr>\n",
       "    <tr>\n",
       "      <th>50%</th>\n",
       "      <td>2018-01-19 12:52:52</td>\n",
       "      <td>1.000000</td>\n",
       "      <td>74.900000</td>\n",
       "      <td>108.810000</td>\n",
       "      <td>5.000000</td>\n",
       "      <td>24325.00000</td>\n",
       "      <td>16.000000</td>\n",
       "    </tr>\n",
       "    <tr>\n",
       "      <th>75%</th>\n",
       "      <td>2018-05-04 16:44:14</td>\n",
       "      <td>1.000000</td>\n",
       "      <td>134.900000</td>\n",
       "      <td>190.430000</td>\n",
       "      <td>5.000000</td>\n",
       "      <td>58701.00000</td>\n",
       "      <td>23.000000</td>\n",
       "    </tr>\n",
       "    <tr>\n",
       "      <th>max</th>\n",
       "      <td>2018-09-03 09:06:57</td>\n",
       "      <td>21.000000</td>\n",
       "      <td>6735.000000</td>\n",
       "      <td>13664.080000</td>\n",
       "      <td>5.000000</td>\n",
       "      <td>99980.00000</td>\n",
       "      <td>31.000000</td>\n",
       "    </tr>\n",
       "    <tr>\n",
       "      <th>std</th>\n",
       "      <td>NaN</td>\n",
       "      <td>0.700518</td>\n",
       "      <td>184.032420</td>\n",
       "      <td>268.409558</td>\n",
       "      <td>1.398025</td>\n",
       "      <td>29814.41971</td>\n",
       "      <td>8.660957</td>\n",
       "    </tr>\n",
       "  </tbody>\n",
       "</table>\n",
       "</div>"
      ],
      "text/plain": [
       "            order_purchase_timestamp  order_item_id          price  \\\n",
       "count                         115509  115509.000000  115509.000000   \n",
       "mean   2017-12-31 09:55:23.934982912       1.196747     120.830109   \n",
       "min              2016-09-04 21:15:19       1.000000       0.850000   \n",
       "25%              2017-09-12 17:47:51       1.000000      39.900000   \n",
       "50%              2018-01-19 12:52:52       1.000000      74.900000   \n",
       "75%              2018-05-04 16:44:14       1.000000     134.900000   \n",
       "max              2018-09-03 09:06:57      21.000000    6735.000000   \n",
       "std                              NaN       0.700518     184.032420   \n",
       "\n",
       "       payment_value   review_score  customer_zip_code_prefix     date_order  \n",
       "count  115509.000000  115509.000000              115509.00000  115509.000000  \n",
       "mean      173.795383       4.016510               35067.93436      15.559030  \n",
       "min         0.000000       1.000000                1003.00000       1.000000  \n",
       "25%        61.700000       4.000000               11320.00000       8.000000  \n",
       "50%       108.810000       5.000000               24325.00000      16.000000  \n",
       "75%       190.430000       5.000000               58701.00000      23.000000  \n",
       "max     13664.080000       5.000000               99980.00000      31.000000  \n",
       "std       268.409558       1.398025               29814.41971       8.660957  "
      ]
     },
     "execution_count": 23,
     "metadata": {},
     "output_type": "execute_result"
    }
   ],
   "source": [
    "df.describe()"
   ]
  },
  {
   "cell_type": "markdown",
   "metadata": {},
   "source": [
    "## For Categorical"
   ]
  },
  {
   "cell_type": "code",
   "execution_count": 24,
   "metadata": {},
   "outputs": [
    {
     "data": {
      "image/png": "[encoded data removed]",
      "text/plain": [
       "<Figure size 1000x500 with 1 Axes>"
      ]
     },
     "metadata": {},
     "output_type": "display_data"
    },
    {
     "data": {
      "image/png": "[encoded data removed]",
      "text/plain": [
       "<Figure size 1000x500 with 1 Axes>"
      ]
     },
     "metadata": {},
     "output_type": "display_data"
    },
    {
     "data": {
      "image/png": "[encoded data removed]",
      "text/plain": [
       "<Figure size 1000x500 with 1 Axes>"
      ]
     },
     "metadata": {},
     "output_type": "display_data"
    },
    {
     "data": {
      "image/png": "[encoded data removed]",
      "text/plain": [
       "<Figure size 1000x500 with 1 Axes>"
      ]
     },
     "metadata": {},
     "output_type": "display_data"
    },
    {
     "data": {
      "image/png": "[encoded data removed]",
      "text/plain": [
       "<Figure size 1000x500 with 1 Axes>"
      ]
     },
     "metadata": {},
     "output_type": "display_data"
    }
   ],
   "source": [
    "for col in df[['payment_type', 'review_score', 'date_order', 'weekday_order', 'month_order']]:\n",
    "    value_counts = df[col].value_counts(normalize=True)\n",
    "    fig, axes = plt.subplots(figsize=(10,5))\n",
    "    plot = sns.barplot(x = value_counts.index, y = value_counts)\n",
    "    plt.tight_layout()\n",
    "    axes.set_title('Distribution')\n",
    "    axes.set_ylabel('Percentage/100%')\n",
    "    axes.set_xlabel(col)\n",
    "    plt.show()"
   ]
  },
  {
   "cell_type": "markdown",
   "metadata": {},
   "source": [
    "Observations :\n",
    "\n",
    "- Payment Type: ~74% transactions using credit card, ~20% transactions using boleto, ~9% transactions using vouchers, and ~1& transactions using a debit card.\n",
    "- Review Score: ~55% of transactions are given a review score of 5, ~19% of transactions are given a review score of 4, and ~11% of transactions are given a review score of 1. The lowest review score is 2 and 3, with below 10% transactions.\n",
    "- Date Order: Most transactions occur on the 24th, with almost ~4% of transactions \n",
    "- Weekday Order:  Most transactions occur on Monday, with almost ~16% of transactions. As the weekend approaches, the number of orders decreases.\n",
    "- Month Order: Most transactions occur in August and May, with almost ~12% transactions. The fewest transactions occurred in October and September, with only ~5% transactions."
   ]
  },
  {
   "cell_type": "markdown",
   "metadata": {},
   "source": [
    "## For Continuous Varibles"
   ]
  },
  {
   "cell_type": "code",
   "execution_count": null,
   "metadata": {},
   "outputs": [],
   "source": [
    "for col in df[['price', 'payment_value']]:\n",
    "    print(col)\n",
    "    plt.figure(figsize=(10, 5))   \n",
    "    sns.distplot(df[[col]])\n",
    "    plt.show()"
   ]
  },
  {
   "cell_type": "markdown",
   "metadata": {},
   "source": [
    "Observations:\n",
    "- Payment Value: The distribution is in the range of R\\$1 - R\\$14,000. The highest number of transactions is in the range of R\\$1 - R\\$200. This can happen because customers tend to buy goods at affordable prices."
   ]
  },
  {
   "cell_type": "markdown",
   "metadata": {},
   "source": [
    "## Top Products "
   ]
  },
  {
   "cell_type": "code",
   "execution_count": null,
   "metadata": {},
   "outputs": [],
   "source": [
    "top_products = df.groupby(\"product_category_name_english\").agg({\"order_id\": \"count\"}).sort_values(\"order_id\", ascending=False).head(10)\n",
    "top_products"
   ]
  },
  {
   "cell_type": "code",
   "execution_count": null,
   "metadata": {},
   "outputs": [],
   "source": [
    "plt.subplots(figsize=(12,7))\n",
    "sns.barplot(x=top_products['order_id'], y=top_products.index)\n",
    "plt.title('Top 10 Best Products')\n",
    "plt.xlabel('Number of Orders')\n",
    "plt.show()"
   ]
  },
  {
   "cell_type": "markdown",
   "metadata": {},
   "source": [
    "Observations :\n",
    "- The most purchased products category is 'Bed Bath Table' with total purchases 11,900 times.\n",
    "- Those 10 products category can be the attention of marketing team to increase sales."
   ]
  },
  {
   "cell_type": "markdown",
   "metadata": {},
   "source": [
    "## Order, Customer, and Total Payment by Month"
   ]
  },
  {
   "cell_type": "code",
   "execution_count": null,
   "metadata": {},
   "outputs": [],
   "source": [
    "# Group by order, customer, and transaction\n",
    "order_per_month = df['order_id'].groupby(df['month_year_order']).count()\n",
    "customer_per_month = df['customer_unique_id'].groupby(df['month_year_order']).nunique()\n",
    "transaction_per_month = df['payment_value'].groupby(df['month_year_order']).sum()\n",
    "\n",
    "# Visualization\n",
    "plt.figure(figsize=(20, 12))\n",
    "\n",
    "plt.subplot(311)\n",
    "sns.lineplot(x=order_per_month.index, y=order_per_month.values, marker='o', markersize=8, color='blue')\n",
    "plt.title('Total Order by Month', fontsize=18)\n",
    "plt.xlabel('Month-Year', fontsize=12)\n",
    "plt.ylabel('Total Order', fontsize=12)\n",
    "\n",
    "plt.subplot(312)\n",
    "sns.lineplot(x=customer_per_month.index, y=customer_per_month.values, marker='o', markersize=8, color='red')\n",
    "plt.title('Total Customer by Month', fontsize=18)\n",
    "plt.xlabel('Month-Year', fontsize=12)\n",
    "plt.ylabel('Total Customer', fontsize=12)\n",
    "\n",
    "plt.subplot(313)\n",
    "sns.lineplot(x=transaction_per_month.index, y=transaction_per_month.values, marker='o', markersize=8, color='green')\n",
    "plt.title('Total Transaction by Month', fontsize=18)\n",
    "plt.xlabel('Month-Year', fontsize=12)\n",
    "plt.ylabel('Total Transaction Value (Mil. Brazilian Real)', fontsize=12)\n",
    "\n",
    "plt.tight_layout()\n",
    "plt.show()"
   ]
  },
  {
   "cell_type": "markdown",
   "metadata": {},
   "source": [
    "Observations :\n",
    "- The number of orders, total transactions, and the highest number of customers were in November 2017. That can happen because there is a Black Friday that offers promos in November so that customers shop for Christmas gifts.\n",
    "- The graph tends to increase from 2016 to 2017. However, it has stagnated as it enters 2018.\n",
    "- There is an anomaly/noise in the data in September 2018, which shows a sudden decline. That might happen because the data collection ended that month, so the data taken was not complete."
   ]
  },
  {
   "cell_type": "markdown",
   "metadata": {},
   "source": [
    "#  Data Analysis Part 2 - RFM\n",
    "RFM is a technique that can be used to perform Customer Segmentation to determine customers' buying behaviour. The meaning of RFM itself is:\n",
    "\n",
    "- Recency: The last time the customer made a purchase\n",
    "- Frequency: Number of transactions\n",
    "- Monetary: The spending power of a customer\n",
    "\n",
    "By using RFM, companies can reactivate customers who rarely transact, make customers more loyal, improve marketing strategies to increase revenue from a company."
   ]
  },
  {
   "cell_type": "code",
   "execution_count": null,
   "metadata": {},
   "outputs": [],
   "source": [
    "#Max time\n",
    "max_time = df['order_purchase_timestamp'].max() + dt.timedelta(1)\n",
    "\n",
    "#Groupby customer_unique_id\n",
    "customer = df.groupby('customer_unique_id', as_index=False).agg(\n",
    "    recency =  ('order_purchase_timestamp', lambda x: (max_time-x.max()).days),\n",
    "    frequency = ('order_id', 'count'),\n",
    "    monetary =  ('payment_value', 'sum'),\n",
    "    most_payment_type = ('payment_type', lambda x: x.value_counts().index[0]),\n",
    "    avg_review_score = ('review_score', 'mean'),\n",
    "    most_product_buy = ('product_category_name_english', lambda x: x.value_counts().index[0]),\n",
    ")"
   ]
  },
  {
   "cell_type": "code",
   "execution_count": null,
   "metadata": {},
   "outputs": [],
   "source": [
    "customer.shape"
   ]
  },
  {
   "cell_type": "code",
   "execution_count": null,
   "metadata": {},
   "outputs": [],
   "source": [
    "customer.head()"
   ]
  },
  {
   "cell_type": "markdown",
   "metadata": {},
   "source": [
    "## Recency"
   ]
  },
  {
   "cell_type": "code",
   "execution_count": null,
   "metadata": {},
   "outputs": [],
   "source": [
    "plt.figure(figsize=(18, 6))\n",
    "plt.subplot(121)\n",
    "sns.distplot(customer['recency'], bins=30)\n",
    "plt.title('Last Time Customer Order by Days', fontsize=14)\n",
    "plt.xlabel('Days since last transactions', fontsize=12)\n",
    "\n",
    "plt.subplot(122)\n",
    "sns.boxplot(customer['recency'])\n",
    "plt.title('Recency Boxplot', fontsize=14)\n",
    "plt.show()\n",
    "\n",
    "plt.show()"
   ]
  },
  {
   "cell_type": "code",
   "execution_count": null,
   "metadata": {},
   "outputs": [],
   "source": [
    "customer['recency'].describe()"
   ]
  },
  {
   "cell_type": "markdown",
   "metadata": {},
   "source": [
    "Based on the distribution and descriptive statistics of recency:\n",
    "\n",
    "- The last time the customer made a transaction ranged from 1 day to 729 days (from the last date on the data)\n",
    "- On average, customers make the last transaction on 243 days or every 8 months (after the last order date)"
   ]
  },
  {
   "cell_type": "markdown",
   "metadata": {},
   "source": [
    "## Frequency"
   ]
  },
  {
   "cell_type": "code",
   "execution_count": null,
   "metadata": {},
   "outputs": [],
   "source": [
    "plt.figure(figsize=(18, 6))\n",
    "plt.subplot(121)\n",
    "sns.countplot(customer['frequency'])\n",
    "plt.title('Transactions Frequency by Customer', fontsize=14)\n",
    "plt.xlabel('Order Times', fontsize=12)\n",
    "\n",
    "plt.subplot(122)\n",
    "sns.boxplot(customer['frequency'])\n",
    "plt.title('Frequency Boxplot', fontsize=14)\n",
    "plt.show()\n",
    "\n",
    "plt.show()"
   ]
  },
  {
   "cell_type": "code",
   "execution_count": null,
   "metadata": {},
   "outputs": [],
   "source": [
    "customer['frequency'].describe()"
   ]
  },
  {
   "cell_type": "markdown",
   "metadata": {},
   "source": [
    "Based on the distribution and descriptive statistics of frequency:\n",
    "- Each customer most often orders only 1 time when using this e-commerce. Therefore, it is necessary to increase the number of transactions made by customers by conducting targeted marketing according to their segmentation.\n",
    "- The maximum number of transactions made by a customer is 15 transactions.\n",
    "- The number of transactions made by each customer is in the range of 1 to 15 transactions."
   ]
  },
  {
   "cell_type": "markdown",
   "metadata": {},
   "source": [
    "## Monetary"
   ]
  },
  {
   "cell_type": "code",
   "execution_count": null,
   "metadata": {},
   "outputs": [],
   "source": [
    "plt.figure(figsize=(18, 6))\n",
    "plt.subplot(121)\n",
    "sns.distplot(customer['monetary'])\n",
    "plt.title('Total Transactions by Customers', fontsize=14)\n",
    "plt.xlabel('Transactions Value in Brazilian Real', fontsize=12)\n",
    "\n",
    "plt.subplot(122)\n",
    "sns.boxplot(customer['monetary'])\n",
    "plt.title('Monetary Boxplot', fontsize=14)\n",
    "plt.show()\n",
    "\n",
    "plt.show()"
   ]
  },
  {
   "cell_type": "code",
   "execution_count": null,
   "metadata": {},
   "outputs": [],
   "source": [
    "customer['monetary'].describe()"
   ]
  },
  {
   "cell_type": "markdown",
   "metadata": {},
   "source": [
    "Based on the distribution and descriptive statistics of monetary:\n",
    "\n",
    "- Total purchases from each customer are in the range of R\\$ 9 - R\\$ 1493 and have an average of R\\$ 174\n",
    "- This shows that the majority of customers have relatively low purchasing power."
   ]
  },
  {
   "cell_type": "markdown",
   "metadata": {},
   "source": [
    "# K-Means Clustering\n",
    "K-Means is an algorithm that can be used for clustering. The K-Means algorithm uses the same distance concept as the KNN algorithm. One of the distance concepts used is Euclidean. Because the K-Means algorithm uses the concept of distance, we have to scale the features we have because the scaling is not the same. The feature that we have shows that there are outliers, and we don't want the outlier data to have an effect so that the scaling that can be used is the Standard Scaler."
   ]
  },
  {
   "cell_type": "code",
   "execution_count": null,
   "metadata": {},
   "outputs": [],
   "source": [
    "# Data\n",
    "x = customer[['recency', 'frequency', 'monetary']]\n",
    "\n",
    "# Scaler\n",
    "scaler = StandardScaler()\n",
    "x_scaled = scaler.fit_transform(x)"
   ]
  },
  {
   "cell_type": "code",
   "execution_count": null,
   "metadata": {},
   "outputs": [],
   "source": [
    "# Calculate Within Cluster Sum Squares (WCSS)\n",
    "WCSS = []\n",
    "\n",
    "for i in range(2,10):\n",
    "    kmeans = KMeans(n_clusters=i, init='k-means++', random_state=11)\n",
    "    kmeans.fit(x_scaled)\n",
    "    WCSS.append(kmeans.inertia_)"
   ]
  },
  {
   "cell_type": "code",
   "execution_count": null,
   "metadata": {},
   "outputs": [],
   "source": [
    "# Elbow Method\n",
    "plt.figure(figsize=(10,8))\n",
    "plt.plot(range(2,10), WCSS)\n",
    "plt.xlabel('Number of Clusters')\n",
    "plt.ylabel('WCSS')\n",
    "plt.title('Elbow Method')\n",
    "plt.show()"
   ]
  },
  {
   "cell_type": "code",
   "execution_count": null,
   "metadata": {},
   "outputs": [],
   "source": [
    "# Silhoutte Score\n",
    "score = []\n",
    "\n",
    "for i in range(2,9):\n",
    "  kmeans = KMeans(i)\n",
    "  kmeans.fit(x_scaled)\n",
    "  label = kmeans.labels_\n",
    "  score.append(silhouette_score(x_scaled, label, metric = 'euclidean'))"
   ]
  },
  {
   "cell_type": "code",
   "execution_count": null,
   "metadata": {},
   "outputs": [],
   "source": [
    "plt.figure(figsize = (10, 8))\n",
    "plt.plot(range(2,9), score, marker='o')\n",
    "plt.xlabel(\"Number Of Cluster\")\n",
    "plt.ylabel('Silhoutte Score')\n",
    "plt.show()"
   ]
  },
  {
   "cell_type": "markdown",
   "metadata": {},
   "source": [
    "Based on the Elbow Method and Silhoutte Score: We choose 4 clusters."
   ]
  },
  {
   "cell_type": "code",
   "execution_count": null,
   "metadata": {},
   "outputs": [],
   "source": [
    "kmeans = KMeans(n_clusters=4, init='k-means++', random_state=11)\n",
    "kmeans.fit(x_scaled)\n",
    "\n",
    "customer['label_kmeans'] = kmeans.labels_"
   ]
  },
  {
   "cell_type": "markdown",
   "metadata": {},
   "source": [
    "# K-Means Clustering Result"
   ]
  },
  {
   "cell_type": "code",
   "execution_count": null,
   "metadata": {},
   "outputs": [],
   "source": [
    "segment_analysis = customer.groupby(['label_kmeans'])[['recency', 'frequency', 'monetary']].mean()\n",
    "segment_analysis"
   ]
  },
  {
   "cell_type": "markdown",
   "metadata": {},
   "source": [
    "- 0: Customers who have not made a transaction for a long time, only made 1 transaction, and lowest total transaction. We can call it **Lost Customers**\n",
    "- 1: Customers who recently made a transaction, more than 1 transaction, and the total transaction is high. We can call it **Loyal Customers**\n",
    "- 2: Customers who recently made a transaction, only make 1 transaction, and the total transaction is low. We can call it **New Customers**\n",
    "- 3: Customers who recently made a transaction, more than 1 transaction, and highest total transaction. We can call it **Best Customers**"
   ]
  },
  {
   "cell_type": "code",
   "execution_count": null,
   "metadata": {},
   "outputs": [],
   "source": [
    "segment_analysis.rename({\n",
    "    0:'Lost Customers',\n",
    "    1:'Loyal Customers',\n",
    "    2:'New Customers',\n",
    "    3:'Best Customers'\n",
    "})"
   ]
  },
  {
   "cell_type": "code",
   "execution_count": null,
   "metadata": {},
   "outputs": [],
   "source": [
    "# Labeling\n",
    "customer['labels'] = customer['label_kmeans'].map({\n",
    "    0:'Lost Customers',\n",
    "    1:'Loyal Customers',\n",
    "    2:'New Customers',\n",
    "    3:'Best Customers'\n",
    "})"
   ]
  },
  {
   "cell_type": "code",
   "execution_count": null,
   "metadata": {},
   "outputs": [],
   "source": [
    "# 2D Scatter Plot\n",
    "plt.figure(figsize =(18,5))\n",
    "\n",
    "# Recency vs Frequency\n",
    "plt.subplot(131)\n",
    "sns.scatterplot(x = 'recency', y = 'frequency', hue = 'labels', data = customer, palette=['orange', 'red', 'green', 'blue'])\n",
    "plt.title('Recency Vs Frequency')\n",
    "\n",
    "# Recency Vs Monetary\n",
    "plt.subplot(132)\n",
    "sns.scatterplot(x = 'recency', y = 'monetary', hue = 'labels', data = customer, palette=['orange', 'red', 'green', 'blue'])\n",
    "plt.title('Recency Vs Monetary')\n",
    "\n",
    "# Frequency Vs Monetary\n",
    "plt.subplot(133)\n",
    "sns.scatterplot(x = 'frequency', y = 'monetary', hue = 'labels', data = customer, palette=['orange', 'red', 'green', 'blue'])\n",
    "plt.title('Frequency Vs Monetary')\n",
    "\n",
    "plt.suptitle('Model 2D Plot')\n",
    "plt.show()"
   ]
  },
  {
   "cell_type": "code",
   "execution_count": null,
   "metadata": {},
   "outputs": [],
   "source": [
    "fig = plt.figure(figsize=(15,8))\n",
    "ax = fig.add_subplot(111, projection='3d')\n",
    "\n",
    "ax.scatter3D(customer['recency'][customer.label_kmeans == 0], \n",
    "           customer['frequency'][customer.label_kmeans == 0],\n",
    "           customer['monetary'][customer.label_kmeans == 0],\n",
    "           c='red', label='Lost Customers')\n",
    "ax.scatter3D(customer['recency'][customer.label_kmeans == 1], \n",
    "           customer['frequency'][customer.label_kmeans == 1],\n",
    "           customer['monetary'][customer.label_kmeans == 1],\n",
    "           c='green', label='Loyal Customers')\n",
    "ax.scatter3D(customer['recency'][customer.label_kmeans == 2], \n",
    "           customer['frequency'][customer.label_kmeans == 2],\n",
    "           customer['monetary'][customer.label_kmeans == 2],\n",
    "           c='orange', label='New Customers')\n",
    "ax.scatter3D(customer['recency'][customer.label_kmeans == 3], \n",
    "           customer['frequency'][customer.label_kmeans == 3],\n",
    "           customer['monetary'][customer.label_kmeans == 3],\n",
    "           c='blue', label='Best Customers')\n",
    "\n",
    "plt.title('3D Visualization')\n",
    "plt.xlabel('Recency')\n",
    "plt.ylabel('Frequency')\n",
    "ax.set_zlabel('Monetary')\n",
    "plt.legend()\n",
    "\n",
    "plt.show()"
   ]
  },
  {
   "cell_type": "code",
   "execution_count": null,
   "metadata": {},
   "outputs": [],
   "source": [
    "customer['labels'].value_counts()"
   ]
  },
  {
   "cell_type": "code",
   "execution_count": null,
   "metadata": {},
   "outputs": [],
   "source": [
    "## Distribution\n",
    "plt.figure(figsize = (8,6))\n",
    "plots = sns.countplot(x='labels', data = customer, palette=['orange', 'red', 'green', 'blue'])\n",
    "for bar in plots.patches:\n",
    "    plots.annotate(format(bar.get_height(), '.0f'),\n",
    "                   (bar.get_x()+ bar.get_width()/2,\n",
    "                    bar.get_height()), ha='center', va='center',\n",
    "                   size=12,xytext=(0,8),\n",
    "                   textcoords='offset points')\n",
    "plt.title('Customer Segmentation Distribution')\n",
    "plt.tight_layout()\n",
    "plt.show()"
   ]
  },
  {
   "cell_type": "markdown",
   "metadata": {},
   "source": [
    "# Cluster Analysis"
   ]
  },
  {
   "cell_type": "code",
   "execution_count": null,
   "metadata": {},
   "outputs": [],
   "source": [
    "# RFM Segmentation Group by for analysis\n",
    "rfm_segment = customer.groupby(['labels', 'label_kmeans']).agg(\n",
    "    n_customer = ('customer_unique_id', 'count'),\n",
    "    mean_recency =  ('recency', 'mean'),\n",
    "    min_recency = ('recency', 'min'),\n",
    "    max_rencency = ('recency', 'max'),\n",
    "    mean_freq = ('frequency', 'mean'),\n",
    "    min_freq = ('frequency', 'min'),\n",
    "    max_freq = ('frequency', 'max'),\n",
    "    mean_monetary =  ('monetary', 'mean'),\n",
    "    min_monetary = ('monetary', 'min'),\n",
    "    max_monetary = ('monetary', 'max'), \n",
    "    most_payment_type = ('most_payment_type', lambda x: x.value_counts().index[0]),\n",
    "    most_product_buy = ('most_product_buy', lambda x: x.value_counts().index[0]),\n",
    ").sort_values(by='n_customer')\n",
    "\n",
    "rfm_segment"
   ]
  },
  {
   "cell_type": "markdown",
   "metadata": {},
   "source": [
    "Conclusion:\n",
    "1. **Best Customers**:\n",
    "- This segment consists of 20 customers\n",
    "- Customers can be said as **Best Customers** when made transactions recently, made more than 1 transaction, and had the highest total transactions.\n",
    "- In this segment, the average total transaction per customer is around R\\$ 27,733, with an average transaction frequency of 11 times and an average last purchase time of around 207 days/7 months.\n",
    "- Most customers buy the computers accesories category with credit card payment method.\n",
    "- Treatments for this segments are loyalty program/reward points, new product recommendations, and exclusive product offers. (Cross / Up-Selling Strategy)\n",
    "\n",
    "2. **Loyal Customers**:\n",
    "- This segment consists of 3,570 customers\n",
    "- Customers can be said as **Loyal Customers** when made transactions recently, made more than 1 transaction, and had the high total transactions.\n",
    "- In this segment, the average total transaction per customer is around R\\$ 1,141, with an average transaction frequency of 4 times and an average last purchase time of around 236 days/8 months.\n",
    "- Most customers buy the furniture decoration category with credit card payment method.\n",
    "- Treatments for this segments are loyalty program/reward points and new product recommendations(Cross / Up-Selling Strategy)\n",
    "\n",
    "3. **New Customers**:\n",
    "- This segment consists of 52,048 customers. The highest segment number.\n",
    "- Customers can be said as **New Customers** when made transactions recently, made only 1 transaction, and had the low total transactions.\n",
    "- In this segment, the average total transaction per customer is around R\\$170 with an average transaction frequency of 1 time and an average last purchase time of around 132 days/4 months.\n",
    "- Most customers buy the health beauty category with the credit card payment method.\n",
    "- Treatments for this segments are welcome e-mail to build the relationship, offer loyalty program/reward points, and discount vouchers (Cross/Up-Selling Strategy)\n",
    "\n",
    "4. **Lost Customers**:\n",
    "- This segment consists of 38,449 customers. The highest segment number.\n",
    "- Customers can be said as **New Customers** when not made a transaction for a long time, made only 1 transaction, and had the lowest total transactions.\n",
    "- In this segment, the average total transaction per customer is around R\\$170 with an average transaction frequency of 1 time and an average last purchase time of around 132 days/4 months.\n",
    "- Most customers buy the bed bath table category with the credit card payment method.\n",
    "- Treatments for this segments are regular limited offers, discount vouchers, campaign via e-mail and asking for feedback. (Retention & Reactivate Strategies)"
   ]
  },
  {
   "cell_type": "markdown",
   "metadata": {},
   "source": [
    "# Business Recommendation"
   ]
  },
  {
   "cell_type": "markdown",
   "metadata": {},
   "source": [
    "| RFM Segment             | Description                                                                                                                       | Strategy                                                             |\n",
    "|-----------------------------|----------------------------------------------------------------------------------------------------------------------------|----------------------------------------------------------------------|\n",
    "| Best Customers          | Made transactions recently, made more than 1 transaction, and had the highest total transactions. |  Loyalty program/reward points, new product recommendations, and exclusive product offers. (Cross / Up-Selling Strategy)|\n",
    "| Loyal Customers         | made transactions recently, made more than 1 transaction, and had the high total transactions.                                                                              |  loyalty program/reward points and new product recommendations(Cross / Up-Selling Strategy)    |    \n",
    "| New Customers           | Made transactions recently, made only 1 transaction, and had the low total transactions.                             | Welcome e-mail to build the relationship, offer loyalty program/reward points, and discount vouchers (Cross/Up-Selling Strategy) |\n",
    "| Lost Customers           | Not made a transaction for a long time, made only 1 transaction, and had the lowest total transactions.      |  Regular limited offers, discount vouchers, campaign via e-mail and asking for feedback. (Retention & Reactivate Strategies)"
   ]
  },
  {
   "cell_type": "markdown",
   "metadata": {},
   "source": [
    "#                                   THANK YOU!\n",
    "\n",
    "\n",
    "\n",
    "\n",
    "# contributers\n",
    "\n",
    "Birhan Aschalew...................UGR/9050/13\n",
    "\n",
    "Ayan Abas..............................UGR/0999/13\n",
    "\n",
    "Yonas Sisay.............................UGR/3279/13\r\n",
    "\r\n",
    "Kena Tekalign........................UGR/6147/13\n"
   ]
  },
  {
   "cell_type": "code",
   "execution_count": null,
   "metadata": {},
   "outputs": [],
   "source": []
  },
  {
   "cell_type": "code",
   "execution_count": null,
   "metadata": {},
   "outputs": [],
   "source": []
  },
  {
   "cell_type": "code",
   "execution_count": null,
   "metadata": {},
   "outputs": [],
   "source": []
  },
  {
   "cell_type": "code",
   "execution_count": null,
   "metadata": {},
   "outputs": [],
   "source": []
  },
  {
   "cell_type": "code",
   "execution_count": null,
   "metadata": {},
   "outputs": [],
   "source": []
  },
  {
   "cell_type": "code",
   "execution_count": null,
   "metadata": {},
   "outputs": [],
   "source": []
  },
  {
   "cell_type": "code",
   "execution_count": null,
   "metadata": {},
   "outputs": [],
   "source": []
  },
  {
   "cell_type": "code",
   "execution_count": null,
   "metadata": {},
   "outputs": [],
   "source": []
  },
  {
   "cell_type": "code",
   "execution_count": null,
   "metadata": {},
   "outputs": [],
   "source": []
  },
  {
   "cell_type": "code",
   "execution_count": null,
   "metadata": {},
   "outputs": [],
   "source": []
  },
  {
   "cell_type": "code",
   "execution_count": null,
   "metadata": {},
   "outputs": [],
   "source": []
  }
 ],
 "metadata": {
  "interpreter": {
   "hash": "7f570ec3329d911ce9ed605d4c8f39251ff77ba174fc6d41fb733a74a53b08d0"
  },
  "kernelspec": {
   "display_name": "Python 3 (ipykernel)",
   "language": "python",
   "name": "python3"
  },
  "language_info": {
   "codemirror_mode": {
    "name": "ipython",
    "version": 3
   },
   "file_extension": ".py",
   "mimetype": "text/x-python",
   "name": "python",
   "nbconvert_exporter": "python",
   "pygments_lexer": "ipython3",
   "version": "3.11.3"
  }
 },
 "nbformat": 4,
 "nbformat_minor": 4
}
